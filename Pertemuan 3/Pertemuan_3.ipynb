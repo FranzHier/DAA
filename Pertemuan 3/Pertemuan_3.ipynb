{
  "nbformat": 4,
  "nbformat_minor": 0,
  "metadata": {
    "colab": {
      "provenance": []
    },
    "kernelspec": {
      "name": "python3",
      "display_name": "Python 3"
    },
    "language_info": {
      "name": "python"
    }
  },
  "cells": [
    {
      "cell_type": "markdown",
      "source": [
        "# Pertemuan 3"
      ],
      "metadata": {
        "id": "Q1tk-knhJiEc"
      }
    },
    {
      "cell_type": "markdown",
      "source": [
        "Membuat list dengan mengambil system time"
      ],
      "metadata": {
        "id": "RCDIG-e1MLbm"
      }
    },
    {
      "cell_type": "code",
      "execution_count": null,
      "metadata": {
        "colab": {
          "base_uri": "https://localhost:8080/"
        },
        "id": "3g8StlLWltX-",
        "outputId": "7a1cac80-8978-4bde-ddfa-4d528d004a31"
      },
      "outputs": [
        {
          "output_type": "stream",
          "name": "stdout",
          "text": [
            "['Char Aznable', '2022071000', 'Desain dan Analisis Algoritma', '13/9/2023', 'Universitas Pembangunan Jaya']\n"
          ]
        }
      ],
      "source": [
        "from datetime import datetime as dt\n",
        "\n",
        "cdt = dt.now()\n",
        "date = '%s/%s/%s' % (cdt.day, cdt.month, cdt.year)\n",
        "mahasiswa = ['Char Aznable', '2022071000', 'Desain dan Analisis Algoritma', date, 'Universitas Pembangunan Jaya']\n",
        "\n",
        "print(mahasiswa)"
      ]
    },
    {
      "cell_type": "code",
      "source": [
        "bin_colors= ['red', 'green', 'blue', 'yelllow']\n",
        "bin_colors[1]"
      ],
      "metadata": {
        "colab": {
          "base_uri": "https://localhost:8080/",
          "height": 36
        },
        "id": "FX4RmXwONaS4",
        "outputId": "ecccbf5b-3b8b-4795-e774-f77f359ae80a"
      },
      "execution_count": null,
      "outputs": [
        {
          "output_type": "execute_result",
          "data": {
            "text/plain": [
              "'green'"
            ],
            "application/vnd.google.colaboratory.intrinsic+json": {
              "type": "string"
            }
          },
          "metadata": {},
          "execution_count": 7
        }
      ]
    },
    {
      "cell_type": "code",
      "source": [
        "print('Nama\\t\\t: ', mahasiswa[0], '\\nNIM\\t\\t: ', mahasiswa[1], '\\nInstitusi\\t: ', mahasiswa[4])"
      ],
      "metadata": {
        "colab": {
          "base_uri": "https://localhost:8080/"
        },
        "id": "ohn1x6mtNtuc",
        "outputId": "a4363602-1fbd-46fc-cb36-889cc10ee36d"
      },
      "execution_count": null,
      "outputs": [
        {
          "output_type": "stream",
          "name": "stdout",
          "text": [
            "Nama\t\t:  Char Aznable \n",
            "NIM\t\t:  2022071000 \n",
            "Institusi\t:  Universitas Pembangunan Jaya\n"
          ]
        }
      ]
    },
    {
      "cell_type": "code",
      "source": [
        "print(mahasiswa[1:3])\n",
        "\n",
        "print('\\n')\n",
        "\n",
        "for x in range(1, 3):\n",
        "  print(mahasiswa[x])\n"
      ],
      "metadata": {
        "colab": {
          "base_uri": "https://localhost:8080/"
        },
        "id": "tF4QG6NvTbFf",
        "outputId": "c21c2eec-3a20-4bdd-d164-dbefb79fc193"
      },
      "execution_count": null,
      "outputs": [
        {
          "output_type": "stream",
          "name": "stdout",
          "text": [
            "['2022071000', 'Desain dan Analisis Algoritma']\n",
            "\n",
            "\n",
            "2022071000\n",
            "Desain dan Analisis Algoritma\n"
          ]
        }
      ]
    },
    {
      "cell_type": "code",
      "source": [
        "for a in bin_colors:\n",
        "  print(a + ' gasih')"
      ],
      "metadata": {
        "colab": {
          "base_uri": "https://localhost:8080/"
        },
        "id": "Q4HslzeXXVbC",
        "outputId": "8d749555-d064-4147-a399-4d212ffd5801"
      },
      "execution_count": null,
      "outputs": [
        {
          "output_type": "stream",
          "name": "stdout",
          "text": [
            "red gasih\n",
            "green gasih\n",
            "blue gasih\n",
            "yelllow gasih\n"
          ]
        }
      ]
    },
    {
      "cell_type": "markdown",
      "source": [
        "Nested Tuple 1"
      ],
      "metadata": {
        "id": "j2Q8fgEienNA"
      }
    },
    {
      "cell_type": "code",
      "source": [
        "upj = ('Universitas', 'Pembangunan', 'Jaya')\n",
        "hariAwal = ('senin', 'selasa', 'rabu')\n",
        "hariAkhir = ('kamis', 'jumat', 'sabtu')\n",
        "\n",
        "hari = (hariAwal, hariAkhir)\n",
        "print(hari)"
      ],
      "metadata": {
        "colab": {
          "base_uri": "https://localhost:8080/"
        },
        "id": "9zGA9v-fcdJj",
        "outputId": "8874d21b-52fd-4b6f-c3d5-c900dd988bfa"
      },
      "execution_count": null,
      "outputs": [
        {
          "output_type": "stream",
          "name": "stdout",
          "text": [
            "(('senin', 'selasa', 'rabu'), ('kamis', 'jumat', 'sabtu'))\n"
          ]
        }
      ]
    },
    {
      "cell_type": "markdown",
      "source": [
        "Nested Tuple 2"
      ],
      "metadata": {
        "id": "-Jeu7b-uelux"
      }
    },
    {
      "cell_type": "code",
      "source": [
        "pertama = (100)\n",
        "kedua = (200, 400, 600)\n",
        "ketiga = (300)\n",
        "keempat = (400, 800)\n",
        "\n",
        "nested_tuple = (pertama, kedua, ketiga, keempat)\n",
        "print(nested_tuple)"
      ],
      "metadata": {
        "colab": {
          "base_uri": "https://localhost:8080/"
        },
        "id": "sI8fdr6OeQyE",
        "outputId": "87c5e38c-b58e-4393-b3e4-9acfcd6f111e"
      },
      "execution_count": null,
      "outputs": [
        {
          "output_type": "stream",
          "name": "stdout",
          "text": [
            "(100, (200, 400, 600), 300, (400, 800))\n"
          ]
        }
      ]
    },
    {
      "cell_type": "markdown",
      "source": [
        "# SETS IN PYTHON"
      ],
      "metadata": {
        "id": "zDAC-h4vuEZC"
      }
    },
    {
      "cell_type": "code",
      "source": [
        "set_01 = {4,5,6,2}\n",
        "print(set_01)\n",
        "\n",
        "set_02 = set()\n",
        "set_03 = set([2,1,4,3])\n",
        "print(type(set_02))\n",
        "print(set_03)\n",
        "\n",
        "set_03.add(31)\n",
        "print(set_03)"
      ],
      "metadata": {
        "id": "0hu9mXPnuMQ7",
        "colab": {
          "base_uri": "https://localhost:8080/"
        },
        "outputId": "ca8a310c-0772-4140-d90c-af77569aa644"
      },
      "execution_count": 9,
      "outputs": [
        {
          "output_type": "stream",
          "name": "stdout",
          "text": [
            "{2, 4, 5, 6}\n",
            "<class 'set'>\n",
            "{1, 2, 3, 4}\n",
            "{1, 2, 3, 4, 31}\n"
          ]
        }
      ]
    },
    {
      "cell_type": "markdown",
      "source": [
        "Set Union, Intersection, Difference"
      ],
      "metadata": {
        "id": "HKtes2ccvkdo"
      }
    },
    {
      "cell_type": "code",
      "source": [
        "set_A = {1,2,3,4}\n",
        "set_B = {3,4,5,6}\n",
        "\n",
        "# Union\n",
        "print(set_A|set_B)\n",
        "print(set_A.union(set_B))\n",
        "\n",
        "# Intersection\n",
        "print(set_A & set_B)\n",
        "print(set_A.intersection(set_B))\n",
        "\n",
        "# Difference\n",
        "print(set_A - set_B)\n",
        "print(set_A.difference(set_B))\n",
        "\n",
        "print(set_B - set_A)\n",
        "print(set_B.difference(set_A))\n",
        "\n",
        "print(set_A ^ set_B)\n",
        "print(set_A.symmetric_difference(set_B))"
      ],
      "metadata": {
        "colab": {
          "base_uri": "https://localhost:8080/"
        },
        "id": "IZQA7omwvW4G",
        "outputId": "b304b7ed-16a2-4a90-816f-a021a1246293"
      },
      "execution_count": 12,
      "outputs": [
        {
          "output_type": "stream",
          "name": "stdout",
          "text": [
            "{1, 2, 3, 4, 5, 6}\n",
            "{1, 2, 3, 4, 5, 6}\n",
            "{3, 4}\n",
            "{3, 4}\n",
            "{1, 2}\n",
            "{1, 2}\n",
            "{5, 6}\n",
            "{5, 6}\n",
            "{1, 2, 5, 6}\n",
            "{1, 2, 5, 6}\n"
          ]
        }
      ]
    },
    {
      "cell_type": "markdown",
      "source": [
        "# Dictionary"
      ],
      "metadata": {
        "id": "X9xYI8-HpWvj"
      }
    },
    {
      "cell_type": "code",
      "source": [
        "data = {'Nama': 'Amuro', 'NIM': '00', 'Prodi': 'Informatika', 'Universitas': 'UPJ'}\n",
        "print(data)\n",
        "data['NIM'] = '01'\n",
        "print(data)"
      ],
      "metadata": {
        "colab": {
          "base_uri": "https://localhost:8080/"
        },
        "id": "_t-eTcZGelVL",
        "outputId": "16aa2011-7b7c-4da6-cfa1-048b8d089b6d"
      },
      "execution_count": null,
      "outputs": [
        {
          "output_type": "stream",
          "name": "stdout",
          "text": [
            "{'Nama': 'Amuro', 'NIM': '00', 'Prodi': 'Informatika', 'Universitas': 'UPJ'}\n",
            "{'Nama': 'Amuro', 'NIM': '01', 'Prodi': 'Informatika', 'Universitas': 'UPJ'}\n"
          ]
        }
      ]
    },
    {
      "cell_type": "markdown",
      "source": [
        "# Data Frame"
      ],
      "metadata": {
        "id": "Uzb2If5xpUBo"
      }
    },
    {
      "cell_type": "code",
      "source": [
        "import pandas as pd\n",
        "\n",
        "mhs = pd.DataFrame({'Prodi': ['Informatika', 'Sistem Informasi', 'Teknik  Sipil'], 'Mahasiswa': [50, 55, 40], 'Laki-laki': [30, 30, 30], 'Perempuan': [20, 25, 10]})\n",
        "print(type(mhs))\n",
        "mhs.head()"
      ],
      "metadata": {
        "colab": {
          "base_uri": "https://localhost:8080/",
          "height": 161
        },
        "id": "u-fukbOSjQ7A",
        "outputId": "f4092d18-9e95-4a48-b7bd-23c5a1f2edee"
      },
      "execution_count": 13,
      "outputs": [
        {
          "output_type": "stream",
          "name": "stdout",
          "text": [
            "<class 'pandas.core.frame.DataFrame'>\n"
          ]
        },
        {
          "output_type": "execute_result",
          "data": {
            "text/plain": [
              "              Prodi  Mahasiswa  Laki-laki  Perempuan\n",
              "0       Informatika         50         30         20\n",
              "1  Sistem Informasi         55         30         25\n",
              "2     Teknik  Sipil         40         30         10"
            ],
            "text/html": [
              "\n",
              "  <div id=\"df-8d6b8ddd-6256-4ce5-a950-5e1b173134f9\" class=\"colab-df-container\">\n",
              "    <div>\n",
              "<style scoped>\n",
              "    .dataframe tbody tr th:only-of-type {\n",
              "        vertical-align: middle;\n",
              "    }\n",
              "\n",
              "    .dataframe tbody tr th {\n",
              "        vertical-align: top;\n",
              "    }\n",
              "\n",
              "    .dataframe thead th {\n",
              "        text-align: right;\n",
              "    }\n",
              "</style>\n",
              "<table border=\"1\" class=\"dataframe\">\n",
              "  <thead>\n",
              "    <tr style=\"text-align: right;\">\n",
              "      <th></th>\n",
              "      <th>Prodi</th>\n",
              "      <th>Mahasiswa</th>\n",
              "      <th>Laki-laki</th>\n",
              "      <th>Perempuan</th>\n",
              "    </tr>\n",
              "  </thead>\n",
              "  <tbody>\n",
              "    <tr>\n",
              "      <th>0</th>\n",
              "      <td>Informatika</td>\n",
              "      <td>50</td>\n",
              "      <td>30</td>\n",
              "      <td>20</td>\n",
              "    </tr>\n",
              "    <tr>\n",
              "      <th>1</th>\n",
              "      <td>Sistem Informasi</td>\n",
              "      <td>55</td>\n",
              "      <td>30</td>\n",
              "      <td>25</td>\n",
              "    </tr>\n",
              "    <tr>\n",
              "      <th>2</th>\n",
              "      <td>Teknik  Sipil</td>\n",
              "      <td>40</td>\n",
              "      <td>30</td>\n",
              "      <td>10</td>\n",
              "    </tr>\n",
              "  </tbody>\n",
              "</table>\n",
              "</div>\n",
              "    <div class=\"colab-df-buttons\">\n",
              "\n",
              "  <div class=\"colab-df-container\">\n",
              "    <button class=\"colab-df-convert\" onclick=\"convertToInteractive('df-8d6b8ddd-6256-4ce5-a950-5e1b173134f9')\"\n",
              "            title=\"Convert this dataframe to an interactive table.\"\n",
              "            style=\"display:none;\">\n",
              "\n",
              "  <svg xmlns=\"http://www.w3.org/2000/svg\" height=\"24px\" viewBox=\"0 -960 960 960\">\n",
              "    <path d=\"M120-120v-720h720v720H120Zm60-500h600v-160H180v160Zm220 220h160v-160H400v160Zm0 220h160v-160H400v160ZM180-400h160v-160H180v160Zm440 0h160v-160H620v160ZM180-180h160v-160H180v160Zm440 0h160v-160H620v160Z\"/>\n",
              "  </svg>\n",
              "    </button>\n",
              "\n",
              "  <style>\n",
              "    .colab-df-container {\n",
              "      display:flex;\n",
              "      gap: 12px;\n",
              "    }\n",
              "\n",
              "    .colab-df-convert {\n",
              "      background-color: #E8F0FE;\n",
              "      border: none;\n",
              "      border-radius: 50%;\n",
              "      cursor: pointer;\n",
              "      display: none;\n",
              "      fill: #1967D2;\n",
              "      height: 32px;\n",
              "      padding: 0 0 0 0;\n",
              "      width: 32px;\n",
              "    }\n",
              "\n",
              "    .colab-df-convert:hover {\n",
              "      background-color: #E2EBFA;\n",
              "      box-shadow: 0px 1px 2px rgba(60, 64, 67, 0.3), 0px 1px 3px 1px rgba(60, 64, 67, 0.15);\n",
              "      fill: #174EA6;\n",
              "    }\n",
              "\n",
              "    .colab-df-buttons div {\n",
              "      margin-bottom: 4px;\n",
              "    }\n",
              "\n",
              "    [theme=dark] .colab-df-convert {\n",
              "      background-color: #3B4455;\n",
              "      fill: #D2E3FC;\n",
              "    }\n",
              "\n",
              "    [theme=dark] .colab-df-convert:hover {\n",
              "      background-color: #434B5C;\n",
              "      box-shadow: 0px 1px 3px 1px rgba(0, 0, 0, 0.15);\n",
              "      filter: drop-shadow(0px 1px 2px rgba(0, 0, 0, 0.3));\n",
              "      fill: #FFFFFF;\n",
              "    }\n",
              "  </style>\n",
              "\n",
              "    <script>\n",
              "      const buttonEl =\n",
              "        document.querySelector('#df-8d6b8ddd-6256-4ce5-a950-5e1b173134f9 button.colab-df-convert');\n",
              "      buttonEl.style.display =\n",
              "        google.colab.kernel.accessAllowed ? 'block' : 'none';\n",
              "\n",
              "      async function convertToInteractive(key) {\n",
              "        const element = document.querySelector('#df-8d6b8ddd-6256-4ce5-a950-5e1b173134f9');\n",
              "        const dataTable =\n",
              "          await google.colab.kernel.invokeFunction('convertToInteractive',\n",
              "                                                    [key], {});\n",
              "        if (!dataTable) return;\n",
              "\n",
              "        const docLinkHtml = 'Like what you see? Visit the ' +\n",
              "          '<a target=\"_blank\" href=https://colab.research.google.com/notebooks/data_table.ipynb>data table notebook</a>'\n",
              "          + ' to learn more about interactive tables.';\n",
              "        element.innerHTML = '';\n",
              "        dataTable['output_type'] = 'display_data';\n",
              "        await google.colab.output.renderOutput(dataTable, element);\n",
              "        const docLink = document.createElement('div');\n",
              "        docLink.innerHTML = docLinkHtml;\n",
              "        element.appendChild(docLink);\n",
              "      }\n",
              "    </script>\n",
              "  </div>\n",
              "\n",
              "\n",
              "<div id=\"df-2a2729af-1eec-4729-be9f-963c6b8e229c\">\n",
              "  <button class=\"colab-df-quickchart\" onclick=\"quickchart('df-2a2729af-1eec-4729-be9f-963c6b8e229c')\"\n",
              "            title=\"Suggest charts.\"\n",
              "            style=\"display:none;\">\n",
              "\n",
              "<svg xmlns=\"http://www.w3.org/2000/svg\" height=\"24px\"viewBox=\"0 0 24 24\"\n",
              "     width=\"24px\">\n",
              "    <g>\n",
              "        <path d=\"M19 3H5c-1.1 0-2 .9-2 2v14c0 1.1.9 2 2 2h14c1.1 0 2-.9 2-2V5c0-1.1-.9-2-2-2zM9 17H7v-7h2v7zm4 0h-2V7h2v10zm4 0h-2v-4h2v4z\"/>\n",
              "    </g>\n",
              "</svg>\n",
              "  </button>\n",
              "\n",
              "<style>\n",
              "  .colab-df-quickchart {\n",
              "      --bg-color: #E8F0FE;\n",
              "      --fill-color: #1967D2;\n",
              "      --hover-bg-color: #E2EBFA;\n",
              "      --hover-fill-color: #174EA6;\n",
              "      --disabled-fill-color: #AAA;\n",
              "      --disabled-bg-color: #DDD;\n",
              "  }\n",
              "\n",
              "  [theme=dark] .colab-df-quickchart {\n",
              "      --bg-color: #3B4455;\n",
              "      --fill-color: #D2E3FC;\n",
              "      --hover-bg-color: #434B5C;\n",
              "      --hover-fill-color: #FFFFFF;\n",
              "      --disabled-bg-color: #3B4455;\n",
              "      --disabled-fill-color: #666;\n",
              "  }\n",
              "\n",
              "  .colab-df-quickchart {\n",
              "    background-color: var(--bg-color);\n",
              "    border: none;\n",
              "    border-radius: 50%;\n",
              "    cursor: pointer;\n",
              "    display: none;\n",
              "    fill: var(--fill-color);\n",
              "    height: 32px;\n",
              "    padding: 0;\n",
              "    width: 32px;\n",
              "  }\n",
              "\n",
              "  .colab-df-quickchart:hover {\n",
              "    background-color: var(--hover-bg-color);\n",
              "    box-shadow: 0 1px 2px rgba(60, 64, 67, 0.3), 0 1px 3px 1px rgba(60, 64, 67, 0.15);\n",
              "    fill: var(--button-hover-fill-color);\n",
              "  }\n",
              "\n",
              "  .colab-df-quickchart-complete:disabled,\n",
              "  .colab-df-quickchart-complete:disabled:hover {\n",
              "    background-color: var(--disabled-bg-color);\n",
              "    fill: var(--disabled-fill-color);\n",
              "    box-shadow: none;\n",
              "  }\n",
              "\n",
              "  .colab-df-spinner {\n",
              "    border: 2px solid var(--fill-color);\n",
              "    border-color: transparent;\n",
              "    border-bottom-color: var(--fill-color);\n",
              "    animation:\n",
              "      spin 1s steps(1) infinite;\n",
              "  }\n",
              "\n",
              "  @keyframes spin {\n",
              "    0% {\n",
              "      border-color: transparent;\n",
              "      border-bottom-color: var(--fill-color);\n",
              "      border-left-color: var(--fill-color);\n",
              "    }\n",
              "    20% {\n",
              "      border-color: transparent;\n",
              "      border-left-color: var(--fill-color);\n",
              "      border-top-color: var(--fill-color);\n",
              "    }\n",
              "    30% {\n",
              "      border-color: transparent;\n",
              "      border-left-color: var(--fill-color);\n",
              "      border-top-color: var(--fill-color);\n",
              "      border-right-color: var(--fill-color);\n",
              "    }\n",
              "    40% {\n",
              "      border-color: transparent;\n",
              "      border-right-color: var(--fill-color);\n",
              "      border-top-color: var(--fill-color);\n",
              "    }\n",
              "    60% {\n",
              "      border-color: transparent;\n",
              "      border-right-color: var(--fill-color);\n",
              "    }\n",
              "    80% {\n",
              "      border-color: transparent;\n",
              "      border-right-color: var(--fill-color);\n",
              "      border-bottom-color: var(--fill-color);\n",
              "    }\n",
              "    90% {\n",
              "      border-color: transparent;\n",
              "      border-bottom-color: var(--fill-color);\n",
              "    }\n",
              "  }\n",
              "</style>\n",
              "\n",
              "  <script>\n",
              "    async function quickchart(key) {\n",
              "      const quickchartButtonEl =\n",
              "        document.querySelector('#' + key + ' button');\n",
              "      quickchartButtonEl.disabled = true;  // To prevent multiple clicks.\n",
              "      quickchartButtonEl.classList.add('colab-df-spinner');\n",
              "      try {\n",
              "        const charts = await google.colab.kernel.invokeFunction(\n",
              "            'suggestCharts', [key], {});\n",
              "      } catch (error) {\n",
              "        console.error('Error during call to suggestCharts:', error);\n",
              "      }\n",
              "      quickchartButtonEl.classList.remove('colab-df-spinner');\n",
              "      quickchartButtonEl.classList.add('colab-df-quickchart-complete');\n",
              "    }\n",
              "    (() => {\n",
              "      let quickchartButtonEl =\n",
              "        document.querySelector('#df-2a2729af-1eec-4729-be9f-963c6b8e229c button');\n",
              "      quickchartButtonEl.style.display =\n",
              "        google.colab.kernel.accessAllowed ? 'block' : 'none';\n",
              "    })();\n",
              "  </script>\n",
              "</div>\n",
              "    </div>\n",
              "  </div>\n"
            ]
          },
          "metadata": {},
          "execution_count": 13
        }
      ]
    },
    {
      "cell_type": "markdown",
      "source": [
        "# Matrix"
      ],
      "metadata": {
        "id": "qc0iiOhlwtxX"
      }
    },
    {
      "cell_type": "code",
      "source": [
        "import numpy as np\n",
        "\n",
        "myMatrix = np.array([[11, 12, 13], [21, 22, 23], [31, 32, 33]])\n",
        "print(type(myMatrix))\n",
        "print(myMatrix)\n",
        "print(\"\")\n",
        "print(np.transpose(myMatrix))"
      ],
      "metadata": {
        "colab": {
          "base_uri": "https://localhost:8080/"
        },
        "id": "SQSgeYdqwvhb",
        "outputId": "1b9ff227-2b21-4e21-b5e9-da9b14322301"
      },
      "execution_count": 17,
      "outputs": [
        {
          "output_type": "stream",
          "name": "stdout",
          "text": [
            "<class 'numpy.ndarray'>\n",
            "[[11 12 13]\n",
            " [21 22 23]\n",
            " [31 32 33]]\n",
            "\n",
            "[[11 21 31]\n",
            " [12 22 32]\n",
            " [13 23 33]]\n"
          ]
        }
      ]
    }
  ]
}