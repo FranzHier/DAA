{
  "nbformat": 4,
  "nbformat_minor": 0,
  "metadata": {
    "colab": {
      "provenance": []
    },
    "kernelspec": {
      "name": "python3",
      "display_name": "Python 3"
    },
    "language_info": {
      "name": "python"
    }
  },
  "cells": [
    {
      "cell_type": "markdown",
      "source": [
        "**DAA PERTEMUAN 2**\n",
        "\n",
        "---\n",
        "\n"
      ],
      "metadata": {
        "id": "mdTlfqvuMO6z"
      }
    },
    {
      "cell_type": "code",
      "source": [
        "a = [1, 2, 3]\n",
        "b = [4, 5, 6]\n",
        "h = a + b\n",
        "\n",
        "print(h)"
      ],
      "metadata": {
        "colab": {
          "base_uri": "https://localhost:8080/"
        },
        "id": "khoRxkA5L6hK",
        "outputId": "abc9f892-cc27-4ceb-b4c2-09acb9f01ea4"
      },
      "execution_count": null,
      "outputs": [
        {
          "output_type": "stream",
          "name": "stdout",
          "text": [
            "[1, 2, 3, 4, 5, 6]\n"
          ]
        }
      ]
    },
    {
      "cell_type": "markdown",
      "source": [
        "Agar dapat menjumlahkan isi dari dua array, dapat menggunakan fungsi manual seperti di bawah:"
      ],
      "metadata": {
        "id": "1vgulU53MtE9"
      }
    },
    {
      "cell_type": "code",
      "source": [
        "# Function to add each data in two equal length arrays (1 dimensional array as of now)\n",
        "def add(c, d):\n",
        "    result = []\n",
        "    for first, second in zip(c, d):\n",
        "        result.append(first + second)\n",
        "    return result\n",
        "\n",
        "\n",
        "# Arrays to be used for demonstration\n",
        "a = [1, 2, 3]\n",
        "b = [4, 5, 6]\n",
        "\n",
        "h = add(a, b)\n",
        "\n",
        "print(h)"
      ],
      "metadata": {
        "colab": {
          "base_uri": "https://localhost:8080/"
        },
        "id": "XVPgkG_yMNWN",
        "outputId": "50483b7a-6098-477a-e5f0-0325ef02bdbf"
      },
      "execution_count": null,
      "outputs": [
        {
          "output_type": "stream",
          "name": "stdout",
          "text": [
            "[5, 7, 9]\n"
          ]
        }
      ]
    },
    {
      "cell_type": "markdown",
      "source": [
        "Selain menggunakan fungsi manual, cara lain dalam mengurus array adalah dengan Numpy:"
      ],
      "metadata": {
        "id": "D3biNpZFMr0L"
      }
    },
    {
      "cell_type": "code",
      "source": [
        "import numpy as np\n",
        "\n",
        "# Membuat array\n",
        "nilai_siswa = np.array([85, 55, 40, 90])\n",
        "\n",
        "# Mengakses data pada array\n",
        "print(nilai_siswa[3])"
      ],
      "metadata": {
        "colab": {
          "base_uri": "https://localhost:8080/"
        },
        "id": "Lt17FwNcMsXy",
        "outputId": "d5e200ed-d2ce-4dd3-88b2-5a1261f214f6"
      },
      "execution_count": null,
      "outputs": [
        {
          "output_type": "stream",
          "name": "stdout",
          "text": [
            "90\n"
          ]
        }
      ]
    },
    {
      "cell_type": "markdown",
      "source": [
        "# Cara mengecek versi Numpy (Ini besar)\n",
        "## Ini kurang besar\n",
        "### Ini kecil\n",
        "---\n",
        "\n"
      ],
      "metadata": {
        "id": "6_g8bZlnOcgI"
      }
    },
    {
      "cell_type": "code",
      "source": [
        "print(np.__version__)"
      ],
      "metadata": {
        "colab": {
          "base_uri": "https://localhost:8080/"
        },
        "id": "4moTBHYVOTR9",
        "outputId": "f9fc419d-0e67-4432-cafb-54dcdac6bbff"
      },
      "execution_count": null,
      "outputs": [
        {
          "output_type": "stream",
          "name": "stdout",
          "text": [
            "1.23.5\n"
          ]
        }
      ]
    },
    {
      "cell_type": "code",
      "source": [
        "# Latihan\n",
        "\n",
        "print('Hello, World! \\nNama saya Bang Cock \\nNIM saya 0000000001')"
      ],
      "metadata": {
        "colab": {
          "base_uri": "https://localhost:8080/"
        },
        "id": "a9DeqaAXRiVO",
        "outputId": "2dd16d52-2722-4a16-bd56-79435994319c"
      },
      "execution_count": null,
      "outputs": [
        {
          "output_type": "stream",
          "name": "stdout",
          "text": [
            "Hello, World! \n",
            "Nama saya Bang Cock \n",
            "NIM saya 0000000001\n"
          ]
        }
      ]
    },
    {
      "cell_type": "code",
      "source": [
        "if 5 > 2:\n",
        "  print('Five is greater than two!')"
      ],
      "metadata": {
        "colab": {
          "base_uri": "https://localhost:8080/"
        },
        "id": "FRdxBqGTSiiZ",
        "outputId": "88e40165-da19-4fdd-b3a3-25c9e6388771"
      },
      "execution_count": null,
      "outputs": [
        {
          "output_type": "stream",
          "name": "stdout",
          "text": [
            "Five is greater than two!\n"
          ]
        }
      ]
    },
    {
      "cell_type": "code",
      "source": [
        "x = 5\n",
        "y = 'John'\n",
        "print(x, '\\n', y)"
      ],
      "metadata": {
        "colab": {
          "base_uri": "https://localhost:8080/"
        },
        "id": "_gURgZDdaPI9",
        "outputId": "02a88e21-8f0e-4d0b-b568-51ee41ea0eb1"
      },
      "execution_count": null,
      "outputs": [
        {
          "output_type": "stream",
          "name": "stdout",
          "text": [
            "5 \n",
            " John\n"
          ]
        }
      ]
    },
    {
      "cell_type": "code",
      "source": [
        "x = 4\n",
        "x = 'Sally'\n",
        "print(x)"
      ],
      "metadata": {
        "colab": {
          "base_uri": "https://localhost:8080/"
        },
        "id": "bKWAt-P_aYSW",
        "outputId": "b4edd8c6-8a09-44d1-b6ce-b21d71f2b18d"
      },
      "execution_count": null,
      "outputs": [
        {
          "output_type": "stream",
          "name": "stdout",
          "text": [
            "Sally\n"
          ]
        }
      ]
    },
    {
      "cell_type": "code",
      "source": [
        "def getfirst(a):\n",
        "  return(a[0])\n",
        "\n",
        "def getsecond(a):\n",
        "  return(a[1])\n",
        "\n",
        "def getlast(a):\n",
        "  return(a[len(a)-1])\n",
        "\n",
        "R = [1, 2, 3, 4, 5, 6, 7, 8]\n",
        "print(getfirst(R), '\\n', getsecond(R), '\\n', getlast(R))"
      ],
      "metadata": {
        "colab": {
          "base_uri": "https://localhost:8080/"
        },
        "id": "q7yG-TOkadYo",
        "outputId": "a478ad1f-ea72-4bed-b213-ce97decb68b7"
      },
      "execution_count": null,
      "outputs": [
        {
          "output_type": "stream",
          "name": "stdout",
          "text": [
            "1 \n",
            " 2 \n",
            " 8\n"
          ]
        }
      ]
    },
    {
      "cell_type": "code",
      "source": [
        "def getsum(a):\n",
        "    s = 0\n",
        "    for item in a:\n",
        "        s += item\n",
        "    return s\n",
        "print(getsum([1,2,3,4,5]))"
      ],
      "metadata": {
        "colab": {
          "base_uri": "https://localhost:8080/"
        },
        "id": "VQgu_BMRbqPA",
        "outputId": "4c5a6ab5-078c-42fb-e388-0a9368168cac"
      },
      "execution_count": null,
      "outputs": [
        {
          "output_type": "stream",
          "name": "stdout",
          "text": [
            "15\n"
          ]
        }
      ]
    },
    {
      "cell_type": "code",
      "source": [
        "def getprod(a):\n",
        "  p = 1\n",
        "  for item in a:\n",
        "    p *= item\n",
        "  return p\n",
        "\n",
        "print(getprod([2,3,5,8]))"
      ],
      "metadata": {
        "colab": {
          "base_uri": "https://localhost:8080/"
        },
        "id": "hv_t_kIfd3iB",
        "outputId": "37b5a269-d3ce-4aad-95f1-35bfdd388bb8"
      },
      "execution_count": null,
      "outputs": [
        {
          "output_type": "stream",
          "name": "stdout",
          "text": [
            "240\n"
          ]
        }
      ]
    },
    {
      "cell_type": "code",
      "source": [
        "def getdiv(a):\n",
        "  d = a[0]\n",
        "  for item in a[1: ]:\n",
        "      d /= item\n",
        "  return d\n",
        "\n",
        "print(getdiv([8,2,2]))"
      ],
      "metadata": {
        "colab": {
          "base_uri": "https://localhost:8080/"
        },
        "id": "IJYf0BQpecun",
        "outputId": "9a6fe2a0-4c11-477e-ee1f-722fe392f070"
      },
      "execution_count": null,
      "outputs": [
        {
          "output_type": "stream",
          "name": "stdout",
          "text": [
            "2.0\n"
          ]
        }
      ]
    }
  ]
}